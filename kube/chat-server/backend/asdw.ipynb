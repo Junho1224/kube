{
 "cells": [
  {
   "cell_type": "code",
   "execution_count": null,
   "metadata": {},
   "outputs": [],
   "source": [
    "@app.get(\"/\", response_class=HTMLResponse)\n",
    "def read_root():\n",
    "    html_content = \"\"\"\n",
    "    <html>\n",
    "        <head>\n",
    "            <title>Chat Example</title>\n",
    "        </head>\n",
    "        <body>\n",
    "            <button onclick=\"sendMessage()\">Ask Model</button>\n",
    "            <script>\n",
    "            function sendMessage() {\n",
    "                fetch('/predict')\n",
    "                .then(response => response.json())\n",
    "                .then(data => console.log(data))\n",
    "                .catch(error => console.error('Error:', error));\n",
    "            }\n",
    "            </script>\n",
    "        </body>\n",
    "    </html>\n",
    "    \"\"\"\n",
    "    return HTMLResponse(content=html_content)"
   ]
  }
 ],
 "metadata": {
  "language_info": {
   "name": "python"
  }
 },
 "nbformat": 4,
 "nbformat_minor": 2
}
