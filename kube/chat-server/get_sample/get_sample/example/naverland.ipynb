{
 "cells": [
  {
   "cell_type": "code",
   "execution_count": 2,
   "metadata": {},
   "outputs": [],
   "source": [
    "import requests\n",
    "from bs4 import BeautifulSoup\n",
    "import json\n",
    "import pandas as pd\n",
    "import math\n",
    "\n"
   ]
  },
  {
   "cell_type": "markdown",
   "metadata": {},
   "source": [
    "네이버 부동산 : https://land.naver.com/ \n",
    "참고 : https://cocoabba.tistory.com/58"
   ]
  },
  {
   "cell_type": "code",
   "execution_count": 5,
   "metadata": {},
   "outputs": [
    {
     "data": {
      "text/plain": [
       "'<!DOCTYPE HTML>\\n<html lang=\"ko\">\\n<head>\\n<link href=\"https://m.naver.com/favicon.ico\" rel=\"shortcut icon\" type=\"image/x-icon\"/>\\n<meta content=\"telephone=no\" name=\"format-detection\"/>\\n<meta content=\"text/html;charset=utf-8\" http-equiv=\"Content-Type\"/>\\n<meta content=\"width=device-width, initial-scale=1.0, maximum-scale=1.0, minimum-scale=1.0, user-scalable=no\" name=\"viewport\"/>\\n<meta content=\"telephone=no\" name=\"format-detection\"/>\\n<title>네이버페이 부동산</title>\\n<meta content=\"text/javascript\" http-equiv=\"Content-Script-Type\"/>\\n<meta content=\"text/css\" http-equiv=\"Content-Style-Type\"/>\\n<meta contents=\"always\" name=\"referrer\"/>\\n<link href=\"https://ssl.pstatic.net/static.land/static/space/css/deploy/20240502162214/min/space.min.css\" rel=\"stylesheet\" type=\"text/css\"/><script src=\"https://ssl.pstatic.net/static.land/static/space/js/deploy/20240502162214/min/jquery_common.min.js\" type=\"text/javascript\"></script></head>\\n<body>\\n<div class=\"u_skip\">\\n<a href=\"#ct\">컨텐츠 바로가기</a>\\n</div>\\n<div class=\"wrap wrap_detail wrap_detail--nodata\">\\n<header class=\"header_map\">\\n<div class=\"header_map_inner\">\\n<a aria-label=\"이전\" class=\"btn_back _btn_back\" href=\"javascript:void(0)\" role=\"button\">\\n<i aria-hidden=\"true\" class=\"icon icon_back\"></i>\\n</a>\\n</div>\\n</header>\\n<!-- content -->\\n<section class=\"content content_detail\" id=\"ct\" role=\"main\">\\n<div class=\"article_box--error\">\\n<div class=\"error_area\">\\n<div class=\"center_block\">\\n<div class=\"center_inner\">\\n<i aria-hidden=\"true\" class=\"icon icon_alert\"></i>\\n<p class=\"tit_error\">\\n\\t\\t\\t\\t\\t\\t\\t서비스 이용이 제한되었습니다.\\n\\t\\t\\t\\t\\t\\t</p>\\n<p class=\"p_error\">\\n\\t\\t\\t\\t\\t\\t\\t사용중이신 PC 또는 네트워크에서<br/>\\n\\t\\t\\t\\t\\t\\t\\t네이버페이 부동산의 정상적인 사용을 방해하는<br/>\\n\\t\\t\\t\\t\\t\\t\\t비정상적인 접근이 감지되었습니다.\\n\\t\\t\\t\\t\\t\\t</p>\\n<p class=\"p_error\">\\n\\t\\t\\t\\t\\t\\t\\tbot 프로그램 등을 이용한 비정상적인 접근이 확인되는 경우,<br/>\\n\\t\\t\\t\\t\\t\\t\\t임시적으로 서비스 이용을 제한하고 있습니다.\\n\\t\\t\\t\\t\\t\\t</p>\\n<p class=\"p_error\">\\n                            아래 문자를 입력하시면<br/>\\n                            정상적으로 서비스를 사용하실 수 있습니다.\\n                        </p>\\n<div _status=\"imageCaptcha\" class=\"captcha_wrap\">\\n<div class=\"_captcha_img\">\\n<span class=\"captcha_img\">\\n<img alt=\"\" class=\"_captchaImg\" key=\"\" src=\"\"/>\\n</span>\\n<button class=\"btn_reload _reload\" type=\"button\"><i aria-hidden=\"true\" class=\"icon icon_change\"></i>새로고침</button>\\n<button class=\"btn_voice _changeCaptcha\" type=\"button\"><i aria-hidden=\"true\" class=\"icon icon_voice\"></i>음성으로 듣기</button>\\n</div>\\n<div class=\"_captcha_voice\" style=\"display:none\">\\n<span class=\"captcha_voice _captcha_voice_btn\">\\n<button class=\"captcha_inner\" type=\"button\">\\n<i aria-hidden=\"true\" class=\"icon icon_voice _audioParrent\" key=\"\"></i><br/>\\n<span class=\"text _audioMsg\">음성 재생\\n                                        </span>\\n</button>\\n</span>\\n<button class=\"btn_reload _reload\" type=\"button\"><i aria-hidden=\"true\" class=\"icon icon_change\"></i>새로고침</button>\\n<button class=\"btn_image _changeCaptcha\" type=\"button\"><i aria-hidden=\"true\" class=\"icon icon_image\"></i>이미지로 보기</button>\\n</div>\\n</div>\\n<label class=\"blind\" for=\"captcha_text\">캡차 이미지의 문자를 입력하세요.</label>\\n<input aria-describedby=\"\" class=\"captcha_input _captcha_input\" id=\"captcha_text\" placeholder=\"위의 문자를 보이는대로 입력해 주세요\" type=\"text\"/>\\n<p class=\"captcha_error _captcha_error\" id=\"error_message\" style=\"display: none;\">잘못된 입력입니다. 다시 시도해 보세요.</p>\\n<input class=\"btn_ok _inputCaptchaMsg\" disabled=\"\" type=\"button\" value=\"확인\"/>\\n</div>\\n</div>\\n</div>\\n</div>\\n</section>\\n<!-- //content -->\\n</div>\\n</body>\\n</html>\\n'"
      ]
     },
     "execution_count": 5,
     "metadata": {},
     "output_type": "execute_result"
    }
   ],
   "source": [
    "\n",
    "keyword = \"원하는 지역명\"\n",
    "\n",
    "url = \"https://m.land.naver.com/search/result/{}\".format(keyword)\n",
    "res = requests.get(url)\n",
    "res.raise_for_status()\n",
    "\n",
    "\n",
    "soup = (str)(BeautifulSoup(res.text, \"lxml\"))\n",
    "soup"
   ]
  },
  {
   "cell_type": "code",
   "execution_count": 4,
   "metadata": {},
   "outputs": [
    {
     "ename": "IndexError",
     "evalue": "list index out of range",
     "output_type": "error",
     "traceback": [
      "\u001b[1;31m---------------------------------------------------------------------------\u001b[0m",
      "\u001b[1;31mIndexError\u001b[0m                                Traceback (most recent call last)",
      "Cell \u001b[1;32mIn[4], line 12\u001b[0m\n\u001b[0;32m      1\u001b[0m \u001b[38;5;66;03m#응답 메시지 속에서 원하는 데이터 얻기\u001b[39;00m\n\u001b[0;32m      2\u001b[0m \u001b[38;5;66;03m#  filter: {\u001b[39;00m\n\u001b[0;32m      3\u001b[0m \u001b[38;5;66;03m#             lat: '37.550985',\u001b[39;00m\n\u001b[1;32m   (...)\u001b[0m\n\u001b[0;32m      9\u001b[0m \u001b[38;5;66;03m#             tradTpCds: 'A1:B1:B2'\u001b[39;00m\n\u001b[0;32m     10\u001b[0m \u001b[38;5;66;03m#         },\u001b[39;00m\n\u001b[1;32m---> 12\u001b[0m value \u001b[38;5;241m=\u001b[39m soup\u001b[38;5;241m.\u001b[39msplit(\u001b[38;5;124m\"\u001b[39m\u001b[38;5;124mfilter: \u001b[39m\u001b[38;5;124m{\u001b[39m\u001b[38;5;124m\"\u001b[39m)[\u001b[38;5;241m1\u001b[39m]\u001b[38;5;241m.\u001b[39msplit(\u001b[38;5;124m\"\u001b[39m\u001b[38;5;124m}\u001b[39m\u001b[38;5;124m\"\u001b[39m)[\u001b[38;5;241m0\u001b[39m]\u001b[38;5;241m.\u001b[39mreplace(\u001b[38;5;124m\"\u001b[39m\u001b[38;5;124m \u001b[39m\u001b[38;5;124m\"\u001b[39m,\u001b[38;5;124m\"\u001b[39m\u001b[38;5;124m\"\u001b[39m)\u001b[38;5;241m.\u001b[39mreplace(\u001b[38;5;124m\"\u001b[39m\u001b[38;5;124m'\u001b[39m\u001b[38;5;124m\"\u001b[39m,\u001b[38;5;124m\"\u001b[39m\u001b[38;5;124m\"\u001b[39m)\n\u001b[0;32m     14\u001b[0m lat \u001b[38;5;241m=\u001b[39m value\u001b[38;5;241m.\u001b[39msplit(\u001b[38;5;124m\"\u001b[39m\u001b[38;5;124mlat:\u001b[39m\u001b[38;5;124m\"\u001b[39m)[\u001b[38;5;241m1\u001b[39m]\u001b[38;5;241m.\u001b[39msplit(\u001b[38;5;124m\"\u001b[39m\u001b[38;5;124m,\u001b[39m\u001b[38;5;124m\"\u001b[39m)[\u001b[38;5;241m0\u001b[39m]\n\u001b[0;32m     15\u001b[0m lon \u001b[38;5;241m=\u001b[39m value\u001b[38;5;241m.\u001b[39msplit(\u001b[38;5;124m\"\u001b[39m\u001b[38;5;124mlon:\u001b[39m\u001b[38;5;124m\"\u001b[39m)[\u001b[38;5;241m1\u001b[39m]\u001b[38;5;241m.\u001b[39msplit(\u001b[38;5;124m\"\u001b[39m\u001b[38;5;124m,\u001b[39m\u001b[38;5;124m\"\u001b[39m)[\u001b[38;5;241m0\u001b[39m]\n",
      "\u001b[1;31mIndexError\u001b[0m: list index out of range"
     ]
    }
   ],
   "source": [
    "#응답 메시지 속에서 원하는 데이터 얻기\n",
    "#  filter: {\n",
    "#             lat: '37.550985',\n",
    "#             lon: '126.849534',\n",
    "#             z: '12',\n",
    "#             cortarNo: '1150000000',\n",
    "#             cortarNm: '강서구',\n",
    "#             rletTpCds: '*',\n",
    "#             tradTpCds: 'A1:B1:B2'\n",
    "#         },\n",
    "\n",
    "value = soup.split(\"filter: {\")[1].split(\"}\")[0].replace(\" \",\"\").replace(\"'\",\"\")\n",
    "\n",
    "lat = value.split(\"lat:\")[1].split(\",\")[0]\n",
    "lon = value.split(\"lon:\")[1].split(\",\")[0]\n",
    "z = value.split(\"z:\")[1].split(\",\")[0]\n",
    "cortarNo = value.split(\"cortarNo:\")[1].split(\",\")[0]\n",
    "rletTpCds = value.split(\"rletTpCds:\")[1].split(\",\")[0]\n",
    "tradTpCds = value.split(\"tradTpCds:\")[1].split()[0]\n",
    "\n",
    "# lat - btm : 37.550985 - 37.4331698 = 0.1178152\n",
    "# top - lat : 37.6686142 - 37.550985 = 0.1176292\n",
    "lat_margin = 0.118\n",
    "\n",
    "# lon - lft : 126.849534 - 126.7389841 = 0.1105499\n",
    "# rgt - lon : 126.9600839 - 126.849534 = 0.1105499\n",
    "lon_margin = 0.111\n",
    "\n",
    "btm=float(lat)-lat_margin\n",
    "lft=float(lon)-lon_margin\n",
    "top=float(lat)+lat_margin\n",
    "rgt=float(lon)+lon_margin\n",
    "\n",
    "# 최초 요청 시 디폴트 값으로 설정되어 있으나, 원하는 값으로 구성\n",
    "rletTpCds=\"SG\" #상가\n",
    "tradTpCds=\"A1:B1:B2\" #매매/전세/월세 매물 확인\n"
   ]
  },
  {
   "cell_type": "markdown",
   "metadata": {},
   "source": [
    "최초 요청 메시지에서 각 속성값 확인 가능\n",
    "\n",
    "_tradTpCd = [{tagCd: 'A1', uiTagNm: '매매'}, \n",
    "             {tagCd: 'B1', uiTagNm: '전세'},  \n",
    "             {tagCd: 'B2', uiTagNm: '월세'},\n",
    "             {tagCd: 'B3', uiTagNm: '단기임대'}];\n",
    "_rletTpCd = [{tagCd: 'APT', uiTagNm: '아파트'}, {tagCd: 'OPST', uiTagNm: '오피스텔'}, {tagCd: 'VL', uiTagNm: '빌라'},\n",
    "             {tagCd: 'ABYG', uiTagNm: '아파트분양권'}, {tagCd: 'OBYG', uiTagNm: '오피스텔분양권'}, {tagCd: 'JGC', uiTagNm: '재건축'},\n",
    "             {tagCd: 'JWJT', uiTagNm: '전원주택'}, {tagCd: 'DDDGG', uiTagNm: '단독/다가구'}, {tagCd: 'SGJT', uiTagNm: '상가주택'},\n",
    "             {tagCd: 'HOJT', uiTagNm: '한옥주택'}, {tagCd: 'JGB', uiTagNm: '재개발'}, {tagCd: 'OR', uiTagNm: '원룸'},\n",
    "             {tagCd: 'GSW', uiTagNm: '고시원'}, {tagCd: 'SG', uiTagNm: '상가'}, {tagCd: 'SMS', uiTagNm: '사무실'},\n",
    "             {tagCd: 'GJCG', uiTagNm: '공장/창고'}, {tagCd: 'GM', uiTagNm: '건물'}, {tagCd: 'TJ', uiTagNm: '토지'},\n",
    "             {tagCd: 'APTHGJ', uiTagNm: '지식산업센터'}];"
   ]
  },
  {
   "cell_type": "code",
   "execution_count": null,
   "metadata": {},
   "outputs": [],
   "source": [
    "# clusterList?view 를 통한 그룹(단지)의 데이터를 가져온다.\n",
    "remaked_URL = \"https://m.land.naver.com/cluster/clusterList?view=atcl&cortarNo={}&rletTpCd={}&tradTpCd={}&z={}&lat={}&lon={}&btm={}&lft={}&top={}&rgt={}\"\\\n",
    "     .format(cortarNo, rletTpCds, tradTpCds, z, lat, lon,btm,lft,top,rgt)\n",
    "\n",
    "res2 = requests.get(remaked_URL)\n",
    "json_str = json.loads(json.dumps(res2.json()))"
   ]
  },
  {
   "cell_type": "code",
   "execution_count": null,
   "metadata": {},
   "outputs": [],
   "source": [
    "values = json_str['data']['ARTICLE']\n",
    "\n",
    "# 큰 원으로 구성되어 있는 전체 매물그룹(values)을 load 하여 한 그룹씩 세부 쿼리 진행\n",
    "for v in values:\n",
    "    lgeo = v['lgeo']\n",
    "    count = v['count']\n",
    "    z2 = v['z']\n",
    "    lat2 = v['lat']\n",
    "    lon2 = v['lon']\n",
    "\n",
    "    len_pages = count / 20 + 1\n",
    "    for idx in range(1, math.ceil(len_pages)):\n",
    "        \n",
    "        remaked_URL2 = \"https://m.land.naver.com/cluster/ajax/articleList?\"\"itemId={}&mapKey=&lgeo={}&showR0=&\" \\\n",
    "               \"rletTpCd={}&tradTpCd={}&z={}&lat={}&\"\"lon={}&totCnt={}&cortarNo={}&page={}\"\\\n",
    "            .format(lgeo, lgeo, rletTpCds, tradTpCds, z2, lat2, lon2, count,cortarNo, idx)\n"
   ]
  },
  {
   "cell_type": "code",
   "execution_count": null,
   "metadata": {},
   "outputs": [],
   "source": [
    "atclNo = v['atclNo']        # 물건번호\n",
    "rletTpNm = v['rletTpNm']    # 상가구분\n",
    "tradTpNm = v['tradTpNm']    # 매매/전세/월세 구분\n",
    "prc = v['prc']              # 가격\n",
    "spc1 = v['spc1']            # 계약면적(m2) -> 평으로 계산 : * 0.3025\n",
    "spc2 = v['spc2']            # 전용면적(m2) -> 평으로 계산 : * 0.3025\n",
    "hanPrc = v['hanPrc']        # 보증금                \n",
    "rentPrc = v['rentPrc']      # 월세\n",
    "flrInfo = v['flrInfo']      # 층수(물건층/전체층)\n",
    "tagList = v['tagList']      # 기타 정보\n",
    "rltrNm = v['rltrNm']        # 부동산\n",
    "detaild_information = \"https://m.land.naver.com/article/info/{}\".format(atclNo)"
   ]
  }
 ],
 "metadata": {
  "kernelspec": {
   "display_name": "base",
   "language": "python",
   "name": "python3"
  },
  "language_info": {
   "codemirror_mode": {
    "name": "ipython",
    "version": 3
   },
   "file_extension": ".py",
   "mimetype": "text/x-python",
   "name": "python",
   "nbconvert_exporter": "python",
   "pygments_lexer": "ipython3",
   "version": "3.11.7"
  }
 },
 "nbformat": 4,
 "nbformat_minor": 2
}
